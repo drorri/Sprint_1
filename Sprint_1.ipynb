{
 "cells": [
  {
   "cell_type": "markdown",
   "id": "0f3d27fb",
   "metadata": {},
   "source": [
    "# Task M1 T01"
   ]
  },
  {
   "cell_type": "markdown",
   "id": "e22aa2f5",
   "metadata": {},
   "source": [
    "## Exercise 1"
   ]
  },
  {
   "cell_type": "markdown",
   "id": "14aa0958",
   "metadata": {},
   "source": [
    "Connection to the database and creation of a cursor object to execute queries. It is necessary to import *mysql.connector* to connect."
   ]
  },
  {
   "cell_type": "code",
   "execution_count": 1,
   "id": "3d87b6e7",
   "metadata": {
    "scrolled": false
   },
   "outputs": [],
   "source": [
    "import mysql.connector"
   ]
  },
  {
   "cell_type": "code",
   "execution_count": 2,
   "id": "ca47255e",
   "metadata": {
    "scrolled": false
   },
   "outputs": [],
   "source": [
    "cnn = mysql.connector.connect(\n",
    "    host=\"localhost\",\n",
    "    user=\"root\",\n",
    "    password=\"MySQLS3rv3r\"\n",
    ")\n",
    "\n",
    "crs = cnn.cursor()"
   ]
  },
  {
   "cell_type": "markdown",
   "id": "8e6ad969",
   "metadata": {},
   "source": [
    "### Setting the database structure\n",
    "The following statements create a new schema called *movies* and then check if it has been created, showing the existing databases."
   ]
  },
  {
   "cell_type": "code",
   "execution_count": 3,
   "id": "6c0ff35d",
   "metadata": {},
   "outputs": [
    {
     "name": "stdout",
     "output_type": "stream",
     "text": [
      "('information_schema',)\n",
      "('movies',)\n",
      "('mysql',)\n",
      "('performance_schema',)\n",
      "('sys',)\n"
     ]
    }
   ],
   "source": [
    "create_sql = \"CREATE SCHEMA IF NOT EXISTS movies;\"\n",
    "show_sql = \"SHOW DATABASES;\"\n",
    "\n",
    "crs.execute(create_sql)\n",
    "crs.execute(show_sql)\n",
    "for x in crs:\n",
    "    print(x)"
   ]
  },
  {
   "cell_type": "markdown",
   "id": "bb70319f",
   "metadata": {},
   "source": [
    "###### Common attributes\n",
    "All the tables that we create have these three attributes.<br> \n",
    "> **created_by_user** stores the name of the user who created each genre. In case the value inserted is null, it  stores \"*OS_SGAD*\". <br>\n",
    "    **created_date** stores the date when this attribute was created. <br>\n",
    "    **updated_date** stores the date when this attribute was edited."
   ]
  },
  {
   "cell_type": "markdown",
   "id": "ecf551de",
   "metadata": {},
   "source": [
    "###### tb_genre\n",
    "The next statement creates the genre table. It stores information about different types of genres in movies.\n",
    "> **genre_id** is the primary key.\n",
    "<br>**genre_name** stores the name of the genre. It cannot be null.\n",
    "  \n",
    "\n"
   ]
  },
  {
   "cell_type": "code",
   "execution_count": 4,
   "id": "0805cb08",
   "metadata": {},
   "outputs": [],
   "source": [
    "create_tb_sql = \"\"\"\n",
    "CREATE TABLE movies.tb_genre (\n",
    "  genre_id          INTEGER NOT NULL,\n",
    "  genre_name        CHARACTER VARYING(40) NOT NULL,\n",
    "  created_by_user   CHARACTER VARYING (10) NOT NULL DEFAULT 'OS_SGAD',\n",
    "  created_date      DATE,\n",
    "  updated_date      DATE,\n",
    "  CONSTRAINT pk_genre PRIMARY KEY (genre_id)\n",
    ");\n",
    "\"\"\"\n",
    "\n",
    "crs.execute(create_tb_sql)"
   ]
  },
  {
   "cell_type": "markdown",
   "id": "b2bd00a7",
   "metadata": {},
   "source": [
    "###### tb_movie \n",
    "The next statement creates the movies table. It stores information about each movie.<br>\n",
    "> **movie_id** is the primary key.<br>\n",
    "  **movie_title** stores the name of the movie. It cannot be null.<br>\n",
    "  **movie_date** stores the date when the movie was released.<br>\n",
    "  **movie_format** stores the format of the movie. Can be \"*Digital*\" or \"*Film*\".<br>\n",
    "  **movie_genre_id** stores the type of genre of the movie. It is foreign key of the table *tb_genre*."
   ]
  },
  {
   "cell_type": "code",
   "execution_count": 5,
   "id": "92ecd720",
   "metadata": {},
   "outputs": [],
   "source": [
    "create_tb_sql = \"\"\" \n",
    "CREATE TABLE movies.tb_movie (\n",
    "  movie_id         INTEGER NOT NULL ,\n",
    "  movie_title      CHARACTER VARYING(100) NOT NULL ,\n",
    "  movie_date       DATE ,\n",
    "  movie_format     CHARACTER VARYING(50) ,\n",
    "  movie_genre_id   INTEGER ,\n",
    "  created_by_user  CHARACTER VARYING(10) NOT NULL DEFAULT 'OS_SGAD' ,\n",
    "  created_date     DATE ,\n",
    "  updated_date     DATE ,\n",
    "  CONSTRAINT pk_movie PRIMARY KEY (movie_id),\n",
    "  CONSTRAINT fk_movie_genre FOREIGN KEY (movie_genre_id) REFERENCES movies.tb_genre (genre_id)\n",
    "); \n",
    "\"\"\"\n",
    "\n",
    "crs.execute(create_tb_sql)"
   ]
  },
  {
   "cell_type": "markdown",
   "id": "dccbb301",
   "metadata": {},
   "source": [
    "###### tb_role\n",
    "The next statement creates the role table. It stores information about different roles.<br>\n",
    "> **role_id** is the primary key.<br>\n",
    "  **role_name** stores the name of each role like \"*Actor*\", \"*Director*\", etc. It cannot be null.\n"
   ]
  },
  {
   "cell_type": "code",
   "execution_count": 6,
   "id": "96cc8658",
   "metadata": {},
   "outputs": [],
   "source": [
    "create_tb_sql = \"\"\"\n",
    "CREATE TABLE movies.tb_role (\n",
    "  role_id          INTEGER NOT NULL ,\n",
    "  role_name        CHARACTER VARYING(60) NOT NULL ,\n",
    "  created_by_user  CHARACTER VARYING(10) NOT NULL DEFAULT 'OS_SGAD' ,\n",
    "  created_date     DATE ,\n",
    "  updated_date     DATE ,\n",
    "  CONSTRAINT pk_role PRIMARY KEY (role_id)\n",
    ");\n",
    "\"\"\"\n",
    "\n",
    "crs.execute(create_tb_sql)"
   ]
  },
  {
   "cell_type": "markdown",
   "id": "0ad74919",
   "metadata": {},
   "source": [
    "###### *tb_person*\n",
    "The next statement creates the person table. It stores information about each person.<br>\n",
    "> **person_id** is the primary key.<br>\n",
    "  **person_name** stores the name of each person. It cannot be null.<br>\n",
    "  **person_country** stores the origin country. <br>\n",
    "  **person_dob** stores the date of birth. It cannot be null. <br>\n",
    "  **person_dod** stores the date of death. <br>\n",
    "  **person_parent_id** stores the *person_id* of the parent. It is foreign key of the table *tb_person*. <br>"
   ]
  },
  {
   "cell_type": "code",
   "execution_count": 7,
   "id": "ed867cb2",
   "metadata": {},
   "outputs": [],
   "source": [
    "create_tb_sql = \"\"\"\n",
    "CREATE TABLE movies.tb_person (\n",
    "  person_id        INTEGER NOT NULL ,\n",
    "  person_name      CHARACTER VARYING(100) NOT NULL ,\n",
    "  person_country   CHARACTER VARYING(40) , \n",
    "  person_dob       DATE NOT NULL ,\n",
    "  person_dod       DATE ,\n",
    "  person_parent_id INTEGER ,\n",
    "  created_by_user  CHARACTER VARYING(10) NOT NULL DEFAULT 'OS_SGAD' ,\n",
    "  created_date     DATE ,\n",
    "  updated_date     DATE ,\n",
    "  CONSTRAINT pk_person PRIMARY KEY (person_id) ,\n",
    "  CONSTRAINT fk_person_parent FOREIGN KEY (person_parent_id) REFERENCES movies.tb_person (person_id)\n",
    ");\n",
    "\"\"\"\n",
    "\n",
    "crs.execute(create_tb_sql)"
   ]
  },
  {
   "cell_type": "markdown",
   "id": "199120ed",
   "metadata": {},
   "source": [
    "###### tb_movie_person\n",
    "The next statement creates a table that relates each person with their role in each movie. The primary key is composed by the attributes *movie_id*, *person_id* and *role_id*.\n",
    "> **movie_id** is foreign key of the table *tb_movie*. <br>\n",
    "  **movie_person** is foreign key of the table *tb_person*. <br>\n",
    "  **movie_role** is foreign key of the table *tb_role*. <br>\n",
    "  **movie_award_ind** stores if this person has won an award for his role in this movie. It have to store 'Y' or 'N' value."
   ]
  },
  {
   "cell_type": "code",
   "execution_count": 8,
   "id": "4b740a92",
   "metadata": {},
   "outputs": [],
   "source": [
    "create_tb_sql = \"\"\"\n",
    "CREATE TABLE movies.tb_movie_person (\n",
    "  movie_id         INTEGER NOT NULL ,\n",
    "  person_id        INTEGER NOT NULL ,\n",
    "  role_id          INTEGER NOT NULL ,\n",
    "  movie_award_ind  CHAR(1) NOT NULL ,\n",
    "  created_by_user  CHARACTER VARYING(10) NOT NULL DEFAULT 'OS_SGAD' ,\n",
    "  created_date     DATE ,\n",
    "  updated_date     DATE ,\n",
    "  CONSTRAINT pk_movper PRIMARY KEY (movie_id, person_id, role_id) ,\n",
    "  CONSTRAINT fk_movper_movie FOREIGN KEY (movie_id) REFERENCES movies.tb_movie (movie_id) ,\n",
    "  CONSTRAINT fk_movper_person FOREIGN KEY (person_id) REFERENCES movies.tb_person (person_id) ,\n",
    "  CONSTRAINT fk_movper_role FOREIGN KEY (role_id) REFERENCES movies.tb_role (role_id)\n",
    ");\n",
    "\"\"\"\n",
    "\n",
    "crs.execute(create_tb_sql)"
   ]
  },
  {
   "cell_type": "code",
   "execution_count": 9,
   "id": "4f01df6f",
   "metadata": {},
   "outputs": [],
   "source": [
    "cnn.commit()"
   ]
  },
  {
   "cell_type": "markdown",
   "id": "5acbf9f0",
   "metadata": {},
   "source": [
    "Finally, we check if all tables have been created. This time, we create a connection specifying the database."
   ]
  },
  {
   "cell_type": "code",
   "execution_count": 10,
   "id": "1a2ec82a",
   "metadata": {},
   "outputs": [
    {
     "name": "stdout",
     "output_type": "stream",
     "text": [
      "('tb_genre',)\n",
      "('tb_movie',)\n",
      "('tb_movie_person',)\n",
      "('tb_person',)\n",
      "('tb_role',)\n"
     ]
    }
   ],
   "source": [
    "cnn = mysql.connector.connect(\n",
    "    host=\"localhost\",\n",
    "    user=\"root\",\n",
    "    password=\"MySQLS3rv3r\",\n",
    "    database=\"movies\"\n",
    ")\n",
    "\n",
    "crs = cnn.cursor()\n",
    "\n",
    "show_sql = \"SHOW TABLES;\"\n",
    "\n",
    "crs.execute(show_sql)\n",
    "for x in crs:\n",
    "    print(x)    "
   ]
  },
  {
   "cell_type": "markdown",
   "id": "6f9e59ab",
   "metadata": {},
   "source": [
    "### Inserting the data\n",
    "The following statements insert the data in the database. To be able to execute multiple statements at once, we have to set the parameter named **multi** from the method **execute** to \"*True*\"."
   ]
  },
  {
   "cell_type": "code",
   "execution_count": 11,
   "id": "700afa7b",
   "metadata": {
    "scrolled": false
   },
   "outputs": [
    {
     "name": "stdout",
     "output_type": "stream",
     "text": [
      "Total number of affected rows: 124\n"
     ]
    }
   ],
   "source": [
    "insert_data_op = \"\"\"\n",
    "INSERT INTO movies.tb_genre (genre_id, genre_name) VALUES ( 1, 'Acción');\n",
    "INSERT INTO movies.tb_genre (genre_id, genre_name) VALUES ( 2, 'Ciencia Ficción');\n",
    "INSERT INTO movies.tb_genre (genre_id, genre_name) VALUES ( 3, 'Comedia');\n",
    "INSERT INTO movies.tb_genre (genre_id, genre_name) VALUES ( 4, 'Drama');\n",
    "INSERT INTO movies.tb_genre (genre_id, genre_name, created_by_user) VALUES ( 5, 'Fantasía', 'apermag');\n",
    "INSERT INTO movies.tb_genre (genre_id, genre_name, created_by_user, created_date, updated_date) VALUES ( 6, 'Melodrama', 'apermag', '2018-09-01', '2018-09-27');\n",
    "INSERT INTO movies.tb_genre (genre_id, genre_name) VALUES ( 7, 'Musical');\n",
    "INSERT INTO movies.tb_genre (genre_id, genre_name) VALUES ( 8, 'Romance');\n",
    "INSERT INTO movies.tb_genre (genre_id, genre_name) VALUES ( 9, 'Suspense');\n",
    "INSERT INTO movies.tb_genre (genre_id, genre_name) VALUES (10, 'Terror');\n",
    "INSERT INTO movies.tb_genre (genre_id, genre_name) VALUES (11, 'Bélico');\n",
    "\n",
    "INSERT INTO movies.tb_movie (movie_id, movie_title, movie_date, movie_format, movie_genre_id) VALUES ( 1, 'Apocalypse Now', '1979-05-10', 'Film', 11);\n",
    "INSERT INTO movies.tb_movie (movie_id, movie_title, movie_date, movie_format, movie_genre_id) VALUES ( 2, 'Star Wars:Episode IV - A New Hope', '1977-05-25', 'Film', 2);\n",
    "INSERT INTO movies.tb_movie (movie_id, movie_title, movie_date, movie_format, movie_genre_id) VALUES ( 3, 'Indiana Jones and the Temple of Doom', '1984-05-08', 'Film', 1);\n",
    "INSERT INTO movies.tb_movie (movie_id, movie_title, movie_date, movie_format, movie_genre_id) VALUES ( 4, 'The Terminal', '2004-06-18', 'Digital', 3);\n",
    "INSERT INTO movies.tb_movie (movie_id, movie_title, movie_date, movie_format, movie_genre_id) VALUES ( 5, 'Jaws', '1975-01-01', 'Film', 10);\n",
    "INSERT INTO movies.tb_movie (movie_id, movie_title, movie_date, movie_format, movie_genre_id) VALUES ( 6, 'ET The Extraterrestrial', '1982-07-25', 'Film', 5);\n",
    "INSERT INTO movies.tb_movie (movie_id, movie_title, movie_date, movie_format, movie_genre_id) VALUES ( 7, 'Psycho', '1960-05-06', 'Film', 9);\n",
    "INSERT INTO movies.tb_movie (movie_id, movie_title, movie_date, movie_format, movie_genre_id) VALUES ( 8, 'Ocho Apellidos Vascos', '2014-03-14', 'Digital', 3);\n",
    "INSERT INTO movies.tb_movie (movie_id, movie_title, movie_date, movie_format, movie_genre_id) VALUES ( 9, 'Ocho Apellidos Catalanes', '2016-06-09', 'Digital', 8);\n",
    "INSERT INTO movies.tb_movie (movie_id, movie_title, movie_date, movie_format, movie_genre_id) VALUES (10, 'El otro lado de la cama', '2002-09-04', 'Digital', 8);\n",
    "INSERT INTO movies.tb_movie (movie_id, movie_title, movie_date, movie_format, movie_genre_id) VALUES (11, 'La Gran Familia Española', '2012-10-15', 'Digital', 3);\n",
    "INSERT INTO movies.tb_movie (movie_id, movie_title, movie_date, movie_format, movie_genre_id) VALUES (12, 'El dia de la bestia', '1994-12-25', 'Film', 1);\n",
    "INSERT INTO movies.tb_movie (movie_id, movie_title, movie_date, movie_format, movie_genre_id) VALUES (13, 'Braveheart', '1995-08-08', 'Film', 4);\n",
    "INSERT INTO movies.tb_movie (movie_id, movie_title, movie_date, movie_format, movie_genre_id) VALUES (14, 'The Shawshank Redemption', '1992-01-07', 'Film', 4);\n",
    "INSERT INTO movies.tb_movie (movie_id, movie_title, movie_date, movie_format, movie_genre_id) VALUES (15, 'Las brujas de Zugarramurdi', '2009-10-07', 'Digital', 9);\n",
    "INSERT INTO movies.tb_movie (movie_id, movie_title, movie_date, movie_format, movie_genre_id) VALUES (16, 'Blade Runner', '1982-12-25', 'Digital', 2);\n",
    "\n",
    "INSERT INTO movies.tb_role (role_id, role_name) VALUES ( 1, 'Actor');\n",
    "INSERT INTO movies.tb_role (role_id, role_name) VALUES ( 2, 'Director');\n",
    "INSERT INTO movies.tb_role (role_id, role_name) VALUES ( 3, 'Productor');\n",
    "INSERT INTO movies.tb_role (role_id, role_name) VALUES ( 4, 'Guionista');\n",
    "INSERT INTO movies.tb_role (role_id, role_name) VALUES ( 5, 'Música');\n",
    "\n",
    "INSERT INTO movies.tb_person (person_id, person_name, person_country, person_dob, person_dod, person_parent_id) VALUES ( 1, 'Francis Ford Coppola', 'United States', '1939-04-07', NULL, NULL);\n",
    "INSERT INTO movies.tb_person (person_id, person_name, person_country, person_dob, person_dod, person_parent_id) VALUES ( 2, 'Carmine Coppola', 'United States', '1945-07-08', NULL, NULL);\n",
    "INSERT INTO movies.tb_person (person_id, person_name, person_country, person_dob, person_dod, person_parent_id) VALUES ( 3, 'Marlon Brando', 'United States', '1924-04-03', '2004-07-01', NULL);\n",
    "INSERT INTO movies.tb_person (person_id, person_name, person_country, person_dob, person_dod, person_parent_id) VALUES ( 4, 'Robert Duvall', 'United States', '1931-01-05', NULL, NULL);\n",
    "INSERT INTO movies.tb_person (person_id, person_name, person_country, person_dob, person_dod, person_parent_id) VALUES ( 5, 'Martin Sheen', 'United States', '1940-08-03', NULL, NULL);\n",
    "INSERT INTO movies.tb_person (person_id, person_name, person_country, person_dob, person_dod, person_parent_id) VALUES ( 6, 'Harrison Ford', 'United States', '1942-07-13', NULL, NULL);\n",
    "INSERT INTO movies.tb_person (person_id, person_name, person_country, person_dob, person_dod, person_parent_id) VALUES ( 7, 'George Lucas', 'United States', '1944-05-14', NULL, NULL);\n",
    "INSERT INTO movies.tb_person (person_id, person_name, person_country, person_dob, person_dod, person_parent_id) VALUES ( 8, 'Gary Kurtz', 'United States', '1940-07-27', NULL, NULL);\n",
    "INSERT INTO movies.tb_person (person_id, person_name, person_country, person_dob, person_dod, person_parent_id) VALUES ( 9, 'Steven Spielberg', 'United States', '1946-12-18', NULL, NULL);\n",
    "INSERT INTO movies.tb_person (person_id, person_name, person_country, person_dob, person_dod, person_parent_id) VALUES (10, 'John Williams', 'United States', '1928-08-08', NULL, NULL);\n",
    "INSERT INTO movies.tb_person (person_id, person_name, person_country, person_dob, person_dod, person_parent_id) VALUES (11, 'Tom Hanks', 'United States', '1956-07-09', NULL, NULL);\n",
    "INSERT INTO movies.tb_person (person_id, person_name, person_country, person_dob, person_dod, person_parent_id) VALUES (12, 'Catherine Zeta-Jones', 'Wales', '1969-09-25', NULL, NULL);\n",
    "INSERT INTO movies.tb_person (person_id, person_name, person_country, person_dob, person_dod, person_parent_id) VALUES (13, 'Alfred Joseph Hitchcock', 'United Kingdom', '1899-08-13', '1980-04-29', NULL);\n",
    "INSERT INTO movies.tb_person (person_id, person_name, person_country, person_dob, person_dod, person_parent_id) VALUES (14, 'Anthony Perkins', 'United States', '1934-04-04', '1992-09-08', NULL);\n",
    "INSERT INTO movies.tb_person (person_id, person_name, person_country, person_dob, person_dod, person_parent_id) VALUES (15, 'Vera Miles', 'United States', '1929-08-23', NULL, NULL);\n",
    "INSERT INTO movies.tb_person (person_id, person_name, person_country, person_dob, person_dod, person_parent_id) VALUES (16, 'Emilio Martinez Lazaro', 'Spain', '1956-09-09', NULL, NULL);\n",
    "INSERT INTO movies.tb_person (person_id, person_name, person_country, person_dob, person_dod, person_parent_id) VALUES (17, 'Dani Rovira', 'Spain', '1984-07-01', NULL, NULL);\n",
    "INSERT INTO movies.tb_person (person_id, person_name, person_country, person_dob, person_dod, person_parent_id) VALUES (18, 'Clara Lago', 'Spain', '1986-04-17', NULL, NULL);\n",
    "INSERT INTO movies.tb_person (person_id, person_name, person_country, person_dob, person_dod, person_parent_id) VALUES (19, 'Carmen Machi', 'Spain', '1964-08-09', NULL, NULL);\n",
    "INSERT INTO movies.tb_person (person_id, person_name, person_country, person_dob, person_dod, person_parent_id) VALUES (20, 'Karra Elejalde', 'Spain', '1960-03-06', NULL, NULL);\n",
    "INSERT INTO movies.tb_person (person_id, person_name, person_country, person_dob, person_dod, person_parent_id) VALUES (21, 'Daniel Sanchez Arevalo', 'Spain', '1970-06-08', NULL, NULL);\n",
    "INSERT INTO movies.tb_person (person_id, person_name, person_country, person_dob, person_dod, person_parent_id) VALUES (22, 'Quim Gutierrez', 'Spain', '1981-03-27', NULL, NULL);\n",
    "INSERT INTO movies.tb_person (person_id, person_name, person_country, person_dob, person_dod, person_parent_id) VALUES (23, 'Robert Alamo', 'Spain', '1970-05-06', NULL, NULL);\n",
    "INSERT INTO movies.tb_person (person_id, person_name, person_country, person_dob, person_dod, person_parent_id) VALUES (24, 'Hector Colome', 'Spain', '1944-10-25', '2015-02-28', NULL);\n",
    "INSERT INTO movies.tb_person (person_id, person_name, person_country, person_dob, person_dod, person_parent_id) VALUES (25, 'Veronica Echegui', 'Spain', '1983-03-14', NULL, NULL);\n",
    "INSERT INTO movies.tb_person (person_id, person_name, person_country, person_dob, person_dod, person_parent_id) VALUES (26, 'Patrick Criado', 'Spain', '1995-09-23', NULL, NULL);\n",
    "INSERT INTO movies.tb_person (person_id, person_name, person_country, person_dob, person_dod, person_parent_id) VALUES (27, 'Sean Connery', 'Scotland', '1930-07-08', NULL, NULL);\n",
    "INSERT INTO movies.tb_person (person_id, person_name, person_country, person_dob, person_dod, person_parent_id) VALUES (28, 'Mel Gibson', 'Australia', '1950-08-09', NULL, NULL);\n",
    "INSERT INTO movies.tb_person (person_id, person_name, person_country, person_dob, person_dod, person_parent_id) VALUES (29, 'Morgan Freeman', 'United States', '1935-10-01', NULL, NULL);\n",
    "INSERT INTO movies.tb_person (person_id, person_name, person_country, person_dob, person_dod, person_parent_id) VALUES (30, 'Tim Robbins', 'United States', '1949-06-07', NULL, NULL);\n",
    "INSERT INTO movies.tb_person (person_id, person_name, person_country, person_dob, person_dod, person_parent_id) VALUES (41, 'Charlie Sheen', 'United States', '1965-09-03', NULL, 5);\n",
    "INSERT INTO movies.tb_person (person_id, person_name, person_country, person_dob, person_dod, person_parent_id) VALUES (42, 'Emilio Estevez', 'United States', '1962-05-12', NULL, 5);\n",
    "INSERT INTO movies.tb_person (person_id, person_name, person_country, person_dob, person_dod, person_parent_id) VALUES (43, 'Ramón Estevez', 'United States', '1963-08-07', NULL, 5);\n",
    "INSERT INTO movies.tb_person (person_id, person_name, person_country, person_dob, person_dod, person_parent_id) VALUES (44, 'Reneé Estevez', 'United States', '1967-04-02', NULL, 5);\n",
    "INSERT INTO movies.tb_person (person_id, person_name, person_country, person_dob, person_dod, person_parent_id) VALUES (45, 'Paula Speert Sheen', 'United States', '1986-01-06', NULL,41);\n",
    "INSERT INTO movies.tb_person (person_id, person_name, person_country, person_dob, person_dod, person_parent_id) VALUES (46, 'Bob Sheen', 'United States', '2009-05-01', NULL,41);\n",
    "INSERT INTO movies.tb_person (person_id, person_name, person_country, person_dob, person_dod, person_parent_id) VALUES (47, 'Max Sheen', 'United States', '2009-05-01', NULL,41);\n",
    "INSERT INTO movies.tb_person (person_id, person_name, person_country, person_dob, person_dod, person_parent_id) VALUES (48, 'Sam Sheen', 'United States', '2004-03-09', NULL,41);\n",
    "INSERT INTO movies.tb_person (person_id, person_name, person_country, person_dob, person_dod, person_parent_id) VALUES (49, 'Lola Sheen', 'United States', '2005-06-01', NULL,41);\n",
    "INSERT INTO movies.tb_person (person_id, person_name, person_country, person_dob, person_dod, person_parent_id) VALUES (50, 'Paula Jones-Sheen', 'United States', '2003-07-06', NULL,45);\n",
    "INSERT INTO movies.tb_person (person_id, person_name, person_country, person_dob, person_dod, person_parent_id) VALUES (51, 'Paloma Rae Estevez', 'United States', '1986-02-15', NULL,42);\n",
    "INSERT INTO movies.tb_person (person_id, person_name, person_country, person_dob, person_dod, person_parent_id) VALUES (52, 'Taylor Levi Estevez', 'United States', '1984-06-22', NULL,42);\n",
    "\n",
    "INSERT INTO movies.tb_movie_person (movie_id, person_id, role_id, movie_award_ind) VALUES ( 1, 1, 2, 'Y');\n",
    "INSERT INTO movies.tb_movie_person (movie_id, person_id, role_id, movie_award_ind) VALUES ( 1, 1, 3, 'N');\n",
    "INSERT INTO movies.tb_movie_person (movie_id, person_id, role_id, movie_award_ind) VALUES ( 1, 1, 5, 'N');\n",
    "INSERT INTO movies.tb_movie_person (movie_id, person_id, role_id, movie_award_ind) VALUES ( 1, 2, 5, 'N');\n",
    "INSERT INTO movies.tb_movie_person (movie_id, person_id, role_id, movie_award_ind) VALUES ( 1, 3, 1, 'N');\n",
    "INSERT INTO movies.tb_movie_person (movie_id, person_id, role_id, movie_award_ind) VALUES ( 1, 4, 1, 'N');\n",
    "INSERT INTO movies.tb_movie_person (movie_id, person_id, role_id, movie_award_ind) VALUES ( 1, 5, 1, 'Y');\n",
    "INSERT INTO movies.tb_movie_person (movie_id, person_id, role_id, movie_award_ind) VALUES ( 1,41, 1, 'N');\n",
    "INSERT INTO movies.tb_movie_person (movie_id, person_id, role_id, movie_award_ind) VALUES ( 1, 6, 1, 'N');\n",
    "INSERT INTO movies.tb_movie_person (movie_id, person_id, role_id, movie_award_ind) VALUES ( 2, 6, 1, 'N');\n",
    "INSERT INTO movies.tb_movie_person (movie_id, person_id, role_id, movie_award_ind) VALUES ( 2, 7, 2, 'Y');\n",
    "INSERT INTO movies.tb_movie_person (movie_id, person_id, role_id, movie_award_ind) VALUES ( 2, 8, 3, 'N');\n",
    "INSERT INTO movies.tb_movie_person (movie_id, person_id, role_id, movie_award_ind) VALUES ( 3, 6, 1, 'N');\n",
    "INSERT INTO movies.tb_movie_person (movie_id, person_id, role_id, movie_award_ind) VALUES ( 3, 7, 4, 'N');\n",
    "INSERT INTO movies.tb_movie_person (movie_id, person_id, role_id, movie_award_ind) VALUES ( 3, 9, 2, 'N');\n",
    "INSERT INTO movies.tb_movie_person (movie_id, person_id, role_id, movie_award_ind) VALUES ( 3,10, 5, 'N');\n",
    "INSERT INTO movies.tb_movie_person (movie_id, person_id, role_id, movie_award_ind) VALUES ( 4, 9, 2, 'N');\n",
    "INSERT INTO movies.tb_movie_person (movie_id, person_id, role_id, movie_award_ind) VALUES ( 4, 9, 3, 'N');\n",
    "INSERT INTO movies.tb_movie_person (movie_id, person_id, role_id, movie_award_ind) VALUES ( 4,11, 1, 'N');\n",
    "INSERT INTO movies.tb_movie_person (movie_id, person_id, role_id, movie_award_ind) VALUES ( 4,12, 1, 'N');\n",
    "INSERT INTO movies.tb_movie_person (movie_id, person_id, role_id, movie_award_ind) VALUES ( 5, 9, 2, 'N');\n",
    "INSERT INTO movies.tb_movie_person (movie_id, person_id, role_id, movie_award_ind) VALUES ( 6, 9, 2, 'N');\n",
    "INSERT INTO movies.tb_movie_person (movie_id, person_id, role_id, movie_award_ind) VALUES ( 7,13, 1, 'N');\n",
    "INSERT INTO movies.tb_movie_person (movie_id, person_id, role_id, movie_award_ind) VALUES ( 7,13, 2, 'N');\n",
    "INSERT INTO movies.tb_movie_person (movie_id, person_id, role_id, movie_award_ind) VALUES ( 7,13, 3, 'N');\n",
    "INSERT INTO movies.tb_movie_person (movie_id, person_id, role_id, movie_award_ind) VALUES ( 7,14, 2, 'N');\n",
    "INSERT INTO movies.tb_movie_person (movie_id, person_id, role_id, movie_award_ind) VALUES ( 7,15, 2, 'N');\n",
    "INSERT INTO movies.tb_movie_person (movie_id, person_id, role_id, movie_award_ind) VALUES ( 3, 7, 1, 'N');\n",
    "INSERT INTO movies.tb_movie_person (movie_id, person_id, role_id, movie_award_ind) VALUES ( 8,16, 2, 'N');\n",
    "INSERT INTO movies.tb_movie_person (movie_id, person_id, role_id, movie_award_ind) VALUES ( 9,16, 2, 'N');\n",
    "INSERT INTO movies.tb_movie_person (movie_id, person_id, role_id, movie_award_ind) VALUES ( 8,17, 1, 'N');\n",
    "INSERT INTO movies.tb_movie_person (movie_id, person_id, role_id, movie_award_ind) VALUES ( 8,18, 1, 'N');\n",
    "INSERT INTO movies.tb_movie_person (movie_id, person_id, role_id, movie_award_ind) VALUES ( 8,19, 1, 'N');\n",
    "INSERT INTO movies.tb_movie_person (movie_id, person_id, role_id, movie_award_ind) VALUES ( 8,20, 1, 'N');\n",
    "INSERT INTO movies.tb_movie_person (movie_id, person_id, role_id, movie_award_ind) VALUES ( 9,17, 1, 'N');\n",
    "INSERT INTO movies.tb_movie_person (movie_id, person_id, role_id, movie_award_ind) VALUES ( 9,18, 1, 'N');\n",
    "INSERT INTO movies.tb_movie_person (movie_id, person_id, role_id, movie_award_ind) VALUES ( 9,19, 1, 'N');\n",
    "INSERT INTO movies.tb_movie_person (movie_id, person_id, role_id, movie_award_ind) VALUES ( 9,20, 1, 'N');\n",
    "INSERT INTO movies.tb_movie_person (movie_id, person_id, role_id, movie_award_ind) VALUES (10,16, 2, 'N');\n",
    "INSERT INTO movies.tb_movie_person (movie_id, person_id, role_id, movie_award_ind) VALUES (11,21, 2, 'N');\n",
    "INSERT INTO movies.tb_movie_person (movie_id, person_id, role_id, movie_award_ind) VALUES (11,21, 4, 'N');\n",
    "INSERT INTO movies.tb_movie_person (movie_id, person_id, role_id, movie_award_ind) VALUES (11,22, 1, 'N');\n",
    "INSERT INTO movies.tb_movie_person (movie_id, person_id, role_id, movie_award_ind) VALUES (11,23, 1, 'N');\n",
    "INSERT INTO movies.tb_movie_person (movie_id, person_id, role_id, movie_award_ind) VALUES (11,24, 1, 'N');\n",
    "INSERT INTO movies.tb_movie_person (movie_id, person_id, role_id, movie_award_ind) VALUES (11,25, 1, 'N');\n",
    "INSERT INTO movies.tb_movie_person (movie_id, person_id, role_id, movie_award_ind) VALUES (11,26, 1, 'N');\n",
    "INSERT INTO movies.tb_movie_person (movie_id, person_id, role_id, movie_award_ind) VALUES (13,28, 1, 'Y');\n",
    "INSERT INTO movies.tb_movie_person (movie_id, person_id, role_id, movie_award_ind) VALUES (13,28, 2, 'N');\n",
    "INSERT INTO movies.tb_movie_person (movie_id, person_id, role_id, movie_award_ind) VALUES (14,29, 1, 'N');\n",
    "INSERT INTO movies.tb_movie_person (movie_id, person_id, role_id, movie_award_ind) VALUES (14,30, 1, 'N');\n",
    "\"\"\"\n",
    "num_affected_rows = 0\n",
    "for result in crs.execute(insert_data_op, multi = True):\n",
    "    if result.with_rows:\n",
    "        print(result.fetchall())\n",
    "    else:\n",
    "        num_affected_rows += result.rowcount \n",
    "print(\"Total number of affected rows: {}\".format(num_affected_rows))\n",
    "\n",
    "cnn.commit()"
   ]
  },
  {
   "cell_type": "markdown",
   "id": "a9e4bb88",
   "metadata": {},
   "source": [
    "Now, it is possible to check that all data have been inserted in each table."
   ]
  },
  {
   "cell_type": "code",
   "execution_count": 12,
   "id": "d6545e71",
   "metadata": {},
   "outputs": [
    {
     "name": "stdout",
     "output_type": "stream",
     "text": [
      "(1, 'Acción', 'OS_SGAD', None, None)\n",
      "(2, 'Ciencia Ficción', 'OS_SGAD', None, None)\n",
      "(3, 'Comedia', 'OS_SGAD', None, None)\n",
      "(4, 'Drama', 'OS_SGAD', None, None)\n",
      "(5, 'Fantasía', 'apermag', None, None)\n",
      "(6, 'Melodrama', 'apermag', datetime.date(2018, 9, 1), datetime.date(2018, 9, 27))\n",
      "(7, 'Musical', 'OS_SGAD', None, None)\n",
      "(8, 'Romance', 'OS_SGAD', None, None)\n",
      "(9, 'Suspense', 'OS_SGAD', None, None)\n",
      "(10, 'Terror', 'OS_SGAD', None, None)\n",
      "(11, 'Bélico', 'OS_SGAD', None, None)\n"
     ]
    }
   ],
   "source": [
    "show_sql = \"SELECT * FROM tb_genre;\"\n",
    "\n",
    "crs.execute(show_sql)\n",
    "\n",
    "result = crs.fetchall()\n",
    "for x in result:\n",
    "    print(x)"
   ]
  },
  {
   "cell_type": "code",
   "execution_count": 13,
   "id": "b5ad7d37",
   "metadata": {},
   "outputs": [
    {
     "name": "stdout",
     "output_type": "stream",
     "text": [
      "(1, 'Apocalypse Now', datetime.date(1979, 5, 10), 'Film', 11, 'OS_SGAD', None, None)\n",
      "(2, 'Star Wars:Episode IV - A New Hope', datetime.date(1977, 5, 25), 'Film', 2, 'OS_SGAD', None, None)\n",
      "(3, 'Indiana Jones and the Temple of Doom', datetime.date(1984, 5, 8), 'Film', 1, 'OS_SGAD', None, None)\n",
      "(4, 'The Terminal', datetime.date(2004, 6, 18), 'Digital', 3, 'OS_SGAD', None, None)\n",
      "(5, 'Jaws', datetime.date(1975, 1, 1), 'Film', 10, 'OS_SGAD', None, None)\n",
      "(6, 'ET The Extraterrestrial', datetime.date(1982, 7, 25), 'Film', 5, 'OS_SGAD', None, None)\n",
      "(7, 'Psycho', datetime.date(1960, 5, 6), 'Film', 9, 'OS_SGAD', None, None)\n",
      "(8, 'Ocho Apellidos Vascos', datetime.date(2014, 3, 14), 'Digital', 3, 'OS_SGAD', None, None)\n",
      "(9, 'Ocho Apellidos Catalanes', datetime.date(2016, 6, 9), 'Digital', 8, 'OS_SGAD', None, None)\n",
      "(10, 'El otro lado de la cama', datetime.date(2002, 9, 4), 'Digital', 8, 'OS_SGAD', None, None)\n",
      "(11, 'La Gran Familia Española', datetime.date(2012, 10, 15), 'Digital', 3, 'OS_SGAD', None, None)\n",
      "(12, 'El dia de la bestia', datetime.date(1994, 12, 25), 'Film', 1, 'OS_SGAD', None, None)\n",
      "(13, 'Braveheart', datetime.date(1995, 8, 8), 'Film', 4, 'OS_SGAD', None, None)\n",
      "(14, 'The Shawshank Redemption', datetime.date(1992, 1, 7), 'Film', 4, 'OS_SGAD', None, None)\n",
      "(15, 'Las brujas de Zugarramurdi', datetime.date(2009, 10, 7), 'Digital', 9, 'OS_SGAD', None, None)\n",
      "(16, 'Blade Runner', datetime.date(1982, 12, 25), 'Digital', 2, 'OS_SGAD', None, None)\n"
     ]
    }
   ],
   "source": [
    "show_sql = \"SELECT * FROM tb_movie;\"\n",
    "\n",
    "crs.execute(show_sql)\n",
    "\n",
    "result = crs.fetchall()\n",
    "for x in result:\n",
    "    print(x)"
   ]
  },
  {
   "cell_type": "code",
   "execution_count": 14,
   "id": "514575e1",
   "metadata": {},
   "outputs": [
    {
     "name": "stdout",
     "output_type": "stream",
     "text": [
      "(1, 1, 2, 'Y', 'OS_SGAD', None, None)\n",
      "(1, 1, 3, 'N', 'OS_SGAD', None, None)\n",
      "(1, 1, 5, 'N', 'OS_SGAD', None, None)\n",
      "(1, 2, 5, 'N', 'OS_SGAD', None, None)\n",
      "(1, 3, 1, 'N', 'OS_SGAD', None, None)\n",
      "(1, 4, 1, 'N', 'OS_SGAD', None, None)\n",
      "(1, 5, 1, 'Y', 'OS_SGAD', None, None)\n",
      "(1, 6, 1, 'N', 'OS_SGAD', None, None)\n",
      "(1, 41, 1, 'N', 'OS_SGAD', None, None)\n",
      "(2, 6, 1, 'N', 'OS_SGAD', None, None)\n",
      "(2, 7, 2, 'Y', 'OS_SGAD', None, None)\n",
      "(2, 8, 3, 'N', 'OS_SGAD', None, None)\n",
      "(3, 6, 1, 'N', 'OS_SGAD', None, None)\n",
      "(3, 7, 1, 'N', 'OS_SGAD', None, None)\n",
      "(3, 7, 4, 'N', 'OS_SGAD', None, None)\n",
      "(3, 9, 2, 'N', 'OS_SGAD', None, None)\n",
      "(3, 10, 5, 'N', 'OS_SGAD', None, None)\n",
      "(4, 9, 2, 'N', 'OS_SGAD', None, None)\n",
      "(4, 9, 3, 'N', 'OS_SGAD', None, None)\n",
      "(4, 11, 1, 'N', 'OS_SGAD', None, None)\n",
      "(4, 12, 1, 'N', 'OS_SGAD', None, None)\n",
      "(5, 9, 2, 'N', 'OS_SGAD', None, None)\n",
      "(6, 9, 2, 'N', 'OS_SGAD', None, None)\n",
      "(7, 13, 1, 'N', 'OS_SGAD', None, None)\n",
      "(7, 13, 2, 'N', 'OS_SGAD', None, None)\n",
      "(7, 13, 3, 'N', 'OS_SGAD', None, None)\n",
      "(7, 14, 2, 'N', 'OS_SGAD', None, None)\n",
      "(7, 15, 2, 'N', 'OS_SGAD', None, None)\n",
      "(8, 16, 2, 'N', 'OS_SGAD', None, None)\n",
      "(8, 17, 1, 'N', 'OS_SGAD', None, None)\n",
      "(8, 18, 1, 'N', 'OS_SGAD', None, None)\n",
      "(8, 19, 1, 'N', 'OS_SGAD', None, None)\n",
      "(8, 20, 1, 'N', 'OS_SGAD', None, None)\n",
      "(9, 16, 2, 'N', 'OS_SGAD', None, None)\n",
      "(9, 17, 1, 'N', 'OS_SGAD', None, None)\n",
      "(9, 18, 1, 'N', 'OS_SGAD', None, None)\n",
      "(9, 19, 1, 'N', 'OS_SGAD', None, None)\n",
      "(9, 20, 1, 'N', 'OS_SGAD', None, None)\n",
      "(10, 16, 2, 'N', 'OS_SGAD', None, None)\n",
      "(11, 21, 2, 'N', 'OS_SGAD', None, None)\n",
      "(11, 21, 4, 'N', 'OS_SGAD', None, None)\n",
      "(11, 22, 1, 'N', 'OS_SGAD', None, None)\n",
      "(11, 23, 1, 'N', 'OS_SGAD', None, None)\n",
      "(11, 24, 1, 'N', 'OS_SGAD', None, None)\n",
      "(11, 25, 1, 'N', 'OS_SGAD', None, None)\n",
      "(11, 26, 1, 'N', 'OS_SGAD', None, None)\n",
      "(13, 28, 1, 'Y', 'OS_SGAD', None, None)\n",
      "(13, 28, 2, 'N', 'OS_SGAD', None, None)\n",
      "(14, 29, 1, 'N', 'OS_SGAD', None, None)\n",
      "(14, 30, 1, 'N', 'OS_SGAD', None, None)\n"
     ]
    }
   ],
   "source": [
    "show_sql = \"SELECT * FROM tb_movie_person;\"\n",
    "\n",
    "crs.execute(show_sql)\n",
    "\n",
    "result = crs.fetchall()\n",
    "for x in result:\n",
    "    print(x)"
   ]
  },
  {
   "cell_type": "code",
   "execution_count": 15,
   "id": "1d407b75",
   "metadata": {},
   "outputs": [
    {
     "name": "stdout",
     "output_type": "stream",
     "text": [
      "(1, 'Francis Ford Coppola', 'United States', datetime.date(1939, 4, 7), None, None, 'OS_SGAD', None, None)\n",
      "(2, 'Carmine Coppola', 'United States', datetime.date(1945, 7, 8), None, None, 'OS_SGAD', None, None)\n",
      "(3, 'Marlon Brando', 'United States', datetime.date(1924, 4, 3), datetime.date(2004, 7, 1), None, 'OS_SGAD', None, None)\n",
      "(4, 'Robert Duvall', 'United States', datetime.date(1931, 1, 5), None, None, 'OS_SGAD', None, None)\n",
      "(5, 'Martin Sheen', 'United States', datetime.date(1940, 8, 3), None, None, 'OS_SGAD', None, None)\n",
      "(6, 'Harrison Ford', 'United States', datetime.date(1942, 7, 13), None, None, 'OS_SGAD', None, None)\n",
      "(7, 'George Lucas', 'United States', datetime.date(1944, 5, 14), None, None, 'OS_SGAD', None, None)\n",
      "(8, 'Gary Kurtz', 'United States', datetime.date(1940, 7, 27), None, None, 'OS_SGAD', None, None)\n",
      "(9, 'Steven Spielberg', 'United States', datetime.date(1946, 12, 18), None, None, 'OS_SGAD', None, None)\n",
      "(10, 'John Williams', 'United States', datetime.date(1928, 8, 8), None, None, 'OS_SGAD', None, None)\n",
      "(11, 'Tom Hanks', 'United States', datetime.date(1956, 7, 9), None, None, 'OS_SGAD', None, None)\n",
      "(12, 'Catherine Zeta-Jones', 'Wales', datetime.date(1969, 9, 25), None, None, 'OS_SGAD', None, None)\n",
      "(13, 'Alfred Joseph Hitchcock', 'United Kingdom', datetime.date(1899, 8, 13), datetime.date(1980, 4, 29), None, 'OS_SGAD', None, None)\n",
      "(14, 'Anthony Perkins', 'United States', datetime.date(1934, 4, 4), datetime.date(1992, 9, 8), None, 'OS_SGAD', None, None)\n",
      "(15, 'Vera Miles', 'United States', datetime.date(1929, 8, 23), None, None, 'OS_SGAD', None, None)\n",
      "(16, 'Emilio Martinez Lazaro', 'Spain', datetime.date(1956, 9, 9), None, None, 'OS_SGAD', None, None)\n",
      "(17, 'Dani Rovira', 'Spain', datetime.date(1984, 7, 1), None, None, 'OS_SGAD', None, None)\n",
      "(18, 'Clara Lago', 'Spain', datetime.date(1986, 4, 17), None, None, 'OS_SGAD', None, None)\n",
      "(19, 'Carmen Machi', 'Spain', datetime.date(1964, 8, 9), None, None, 'OS_SGAD', None, None)\n",
      "(20, 'Karra Elejalde', 'Spain', datetime.date(1960, 3, 6), None, None, 'OS_SGAD', None, None)\n",
      "(21, 'Daniel Sanchez Arevalo', 'Spain', datetime.date(1970, 6, 8), None, None, 'OS_SGAD', None, None)\n",
      "(22, 'Quim Gutierrez', 'Spain', datetime.date(1981, 3, 27), None, None, 'OS_SGAD', None, None)\n",
      "(23, 'Robert Alamo', 'Spain', datetime.date(1970, 5, 6), None, None, 'OS_SGAD', None, None)\n",
      "(24, 'Hector Colome', 'Spain', datetime.date(1944, 10, 25), datetime.date(2015, 2, 28), None, 'OS_SGAD', None, None)\n",
      "(25, 'Veronica Echegui', 'Spain', datetime.date(1983, 3, 14), None, None, 'OS_SGAD', None, None)\n",
      "(26, 'Patrick Criado', 'Spain', datetime.date(1995, 9, 23), None, None, 'OS_SGAD', None, None)\n",
      "(27, 'Sean Connery', 'Scotland', datetime.date(1930, 7, 8), None, None, 'OS_SGAD', None, None)\n",
      "(28, 'Mel Gibson', 'Australia', datetime.date(1950, 8, 9), None, None, 'OS_SGAD', None, None)\n",
      "(29, 'Morgan Freeman', 'United States', datetime.date(1935, 10, 1), None, None, 'OS_SGAD', None, None)\n",
      "(30, 'Tim Robbins', 'United States', datetime.date(1949, 6, 7), None, None, 'OS_SGAD', None, None)\n",
      "(41, 'Charlie Sheen', 'United States', datetime.date(1965, 9, 3), None, 5, 'OS_SGAD', None, None)\n",
      "(42, 'Emilio Estevez', 'United States', datetime.date(1962, 5, 12), None, 5, 'OS_SGAD', None, None)\n",
      "(43, 'Ramón Estevez', 'United States', datetime.date(1963, 8, 7), None, 5, 'OS_SGAD', None, None)\n",
      "(44, 'Reneé Estevez', 'United States', datetime.date(1967, 4, 2), None, 5, 'OS_SGAD', None, None)\n",
      "(45, 'Paula Speert Sheen', 'United States', datetime.date(1986, 1, 6), None, 41, 'OS_SGAD', None, None)\n",
      "(46, 'Bob Sheen', 'United States', datetime.date(2009, 5, 1), None, 41, 'OS_SGAD', None, None)\n",
      "(47, 'Max Sheen', 'United States', datetime.date(2009, 5, 1), None, 41, 'OS_SGAD', None, None)\n",
      "(48, 'Sam Sheen', 'United States', datetime.date(2004, 3, 9), None, 41, 'OS_SGAD', None, None)\n",
      "(49, 'Lola Sheen', 'United States', datetime.date(2005, 6, 1), None, 41, 'OS_SGAD', None, None)\n",
      "(50, 'Paula Jones-Sheen', 'United States', datetime.date(2003, 7, 6), None, 45, 'OS_SGAD', None, None)\n",
      "(51, 'Paloma Rae Estevez', 'United States', datetime.date(1986, 2, 15), None, 42, 'OS_SGAD', None, None)\n",
      "(52, 'Taylor Levi Estevez', 'United States', datetime.date(1984, 6, 22), None, 42, 'OS_SGAD', None, None)\n"
     ]
    }
   ],
   "source": [
    "show_sql = \"SELECT * FROM tb_person;\"\n",
    "\n",
    "crs.execute(show_sql)\n",
    "\n",
    "result = crs.fetchall()\n",
    "for x in result:\n",
    "    print(x)"
   ]
  },
  {
   "cell_type": "code",
   "execution_count": 16,
   "id": "d26c7920",
   "metadata": {},
   "outputs": [
    {
     "name": "stdout",
     "output_type": "stream",
     "text": [
      "(1, 'Actor', 'OS_SGAD', None, None)\n",
      "(2, 'Director', 'OS_SGAD', None, None)\n",
      "(3, 'Productor', 'OS_SGAD', None, None)\n",
      "(4, 'Guionista', 'OS_SGAD', None, None)\n",
      "(5, 'Música', 'OS_SGAD', None, None)\n"
     ]
    }
   ],
   "source": [
    "show_sql = \"SELECT * FROM tb_role;\"\n",
    "\n",
    "crs.execute(show_sql)\n",
    "\n",
    "result = crs.fetchall()\n",
    "for x in result:\n",
    "    print(x)"
   ]
  },
  {
   "cell_type": "markdown",
   "id": "c1509819",
   "metadata": {},
   "source": [
    "## Exercise 2"
   ]
  },
  {
   "cell_type": "code",
   "execution_count": 17,
   "id": "9b2f2d96",
   "metadata": {
    "scrolled": true
   },
   "outputs": [
    {
     "name": "stdout",
     "output_type": "stream",
     "text": [
      "('John Williams', 'United States', datetime.date(1928, 8, 8))\n",
      "('Vera Miles', 'United States', datetime.date(1929, 8, 23))\n",
      "('Sean Connery', 'Scotland', datetime.date(1930, 7, 8))\n",
      "('Robert Duvall', 'United States', datetime.date(1931, 1, 5))\n",
      "('Morgan Freeman', 'United States', datetime.date(1935, 10, 1))\n",
      "('Francis Ford Coppola', 'United States', datetime.date(1939, 4, 7))\n",
      "('Gary Kurtz', 'United States', datetime.date(1940, 7, 27))\n",
      "('Martin Sheen', 'United States', datetime.date(1940, 8, 3))\n",
      "('Harrison Ford', 'United States', datetime.date(1942, 7, 13))\n",
      "('George Lucas', 'United States', datetime.date(1944, 5, 14))\n",
      "('Carmine Coppola', 'United States', datetime.date(1945, 7, 8))\n",
      "('Steven Spielberg', 'United States', datetime.date(1946, 12, 18))\n",
      "('Tim Robbins', 'United States', datetime.date(1949, 6, 7))\n",
      "('Mel Gibson', 'Australia', datetime.date(1950, 8, 9))\n",
      "('Tom Hanks', 'United States', datetime.date(1956, 7, 9))\n",
      "('Emilio Martinez Lazaro', 'Spain', datetime.date(1956, 9, 9))\n",
      "('Karra Elejalde', 'Spain', datetime.date(1960, 3, 6))\n",
      "('Emilio Estevez', 'United States', datetime.date(1962, 5, 12))\n",
      "('Ramón Estevez', 'United States', datetime.date(1963, 8, 7))\n",
      "('Carmen Machi', 'Spain', datetime.date(1964, 8, 9))\n",
      "('Charlie Sheen', 'United States', datetime.date(1965, 9, 3))\n",
      "('Reneé Estevez', 'United States', datetime.date(1967, 4, 2))\n",
      "('Catherine Zeta-Jones', 'Wales', datetime.date(1969, 9, 25))\n",
      "('Robert Alamo', 'Spain', datetime.date(1970, 5, 6))\n",
      "('Daniel Sanchez Arevalo', 'Spain', datetime.date(1970, 6, 8))\n",
      "('Quim Gutierrez', 'Spain', datetime.date(1981, 3, 27))\n",
      "('Veronica Echegui', 'Spain', datetime.date(1983, 3, 14))\n",
      "('Taylor Levi Estevez', 'United States', datetime.date(1984, 6, 22))\n",
      "('Dani Rovira', 'Spain', datetime.date(1984, 7, 1))\n",
      "('Paula Speert Sheen', 'United States', datetime.date(1986, 1, 6))\n",
      "('Paloma Rae Estevez', 'United States', datetime.date(1986, 2, 15))\n",
      "('Clara Lago', 'Spain', datetime.date(1986, 4, 17))\n",
      "('Patrick Criado', 'Spain', datetime.date(1995, 9, 23))\n",
      "('Paula Jones-Sheen', 'United States', datetime.date(2003, 7, 6))\n",
      "('Sam Sheen', 'United States', datetime.date(2004, 3, 9))\n",
      "('Lola Sheen', 'United States', datetime.date(2005, 6, 1))\n",
      "('Bob Sheen', 'United States', datetime.date(2009, 5, 1))\n",
      "('Max Sheen', 'United States', datetime.date(2009, 5, 1))\n"
     ]
    }
   ],
   "source": [
    "select_sql = \"\"\"\n",
    "  SELECT person_name, person_country, person_dob\n",
    "  FROM tb_person\n",
    "  WHERE person_dod IS NULL\n",
    "  ORDER BY person_dob;\n",
    "\"\"\"\n",
    "\n",
    "crs.execute(select_sql)\n",
    "\n",
    "result = crs.fetchall()\n",
    "for x in result:\n",
    "    print(x)"
   ]
  },
  {
   "cell_type": "markdown",
   "id": "55659de0",
   "metadata": {},
   "source": [
    "## Exercise 3"
   ]
  },
  {
   "cell_type": "code",
   "execution_count": 18,
   "id": "efca30cb",
   "metadata": {},
   "outputs": [
    {
     "name": "stdout",
     "output_type": "stream",
     "text": [
      "('Comedia', 3)\n",
      "('Acción', 2)\n",
      "('Ciencia Ficción', 2)\n",
      "('Drama', 2)\n",
      "('Romance', 2)\n",
      "('Suspense', 2)\n",
      "('Fantasía', 1)\n",
      "('Terror', 1)\n",
      "('Bélico', 1)\n"
     ]
    }
   ],
   "source": [
    "select_sql = \"\"\"\n",
    "  SELECT genre_name, count(movie_id) as movie_count\n",
    "  FROM tb_genre JOIN tb_movie\n",
    "  WHERE genre_id = movie_genre_id\n",
    "  GROUP BY genre_name\n",
    "  ORDER BY movie_count DESC;\n",
    "\"\"\"\n",
    "\n",
    "crs.execute(select_sql)\n",
    "\n",
    "result = crs.fetchall()\n",
    "for x in result:\n",
    "    print(x)"
   ]
  },
  {
   "cell_type": "markdown",
   "id": "f036dde5",
   "metadata": {},
   "source": [
    "## Exercise 4"
   ]
  },
  {
   "cell_type": "code",
   "execution_count": 19,
   "id": "98d98c06",
   "metadata": {},
   "outputs": [
    {
     "name": "stdout",
     "output_type": "stream",
     "text": [
      "('Francis Ford Coppola', 3)\n",
      "('George Lucas', 2)\n",
      "('Steven Spielberg', 2)\n",
      "('Alfred Joseph Hitchcock', 3)\n",
      "('Daniel Sanchez Arevalo', 2)\n",
      "('Mel Gibson', 2)\n"
     ]
    }
   ],
   "source": [
    "select_sql = \"\"\"\n",
    "  SELECT person_name, max(roles_count)\n",
    "  FROM (SELECT person_id, count(role_id) AS roles_count\n",
    "        FROM tb_movie_person\n",
    "        GROUP BY person_id, movie_id) AS tb_roles_count JOIN tb_person\n",
    "  WHERE tb_roles_count.person_id = tb_person.person_id AND roles_count > 1\n",
    "  GROUP BY tb_roles_count.person_id;  \n",
    "\"\"\"\n",
    "\n",
    "crs.execute(select_sql)\n",
    "\n",
    "result = crs.fetchall()\n",
    "for x in result:\n",
    "    print(x)"
   ]
  },
  {
   "cell_type": "markdown",
   "id": "18f7a4a9",
   "metadata": {},
   "source": [
    "## Exercise 5"
   ]
  },
  {
   "cell_type": "markdown",
   "id": "0472db47",
   "metadata": {},
   "source": [
    "See the state of *tb_genre* before it is updated."
   ]
  },
  {
   "cell_type": "code",
   "execution_count": 20,
   "id": "42941cdc",
   "metadata": {},
   "outputs": [
    {
     "name": "stdout",
     "output_type": "stream",
     "text": [
      "(1, 'Acción')\n",
      "(2, 'Ciencia Ficción')\n",
      "(3, 'Comedia')\n",
      "(4, 'Drama')\n",
      "(5, 'Fantasía')\n",
      "(6, 'Melodrama')\n",
      "(7, 'Musical')\n",
      "(8, 'Romance')\n",
      "(9, 'Suspense')\n",
      "(10, 'Terror')\n",
      "(11, 'Bélico')\n"
     ]
    }
   ],
   "source": [
    "pre_show_sql = \"SELECT genre_id, genre_name FROM tb_genre\"\n",
    "\n",
    "crs.execute(pre_show_sql)\n",
    "\n",
    "result = crs.fetchall()\n",
    "for x in result:\n",
    "    print(x)"
   ]
  },
  {
   "cell_type": "code",
   "execution_count": 21,
   "id": "d793a847",
   "metadata": {},
   "outputs": [],
   "source": [
    "insert_sql = \"INSERT INTO tb_genre (genre_id, genre_name) VALUES (%s, %s);\"\n",
    "val = (69, \"Documental\")\n",
    "\n",
    "crs.execute(insert_sql, val)\n",
    "\n",
    "cnn.commit()"
   ]
  },
  {
   "cell_type": "markdown",
   "id": "db83db12",
   "metadata": {},
   "source": [
    "See the state of *tb_genre* after it is updated."
   ]
  },
  {
   "cell_type": "code",
   "execution_count": 22,
   "id": "bf76d192",
   "metadata": {},
   "outputs": [
    {
     "name": "stdout",
     "output_type": "stream",
     "text": [
      "(1, 'Acción')\n",
      "(2, 'Ciencia Ficción')\n",
      "(3, 'Comedia')\n",
      "(4, 'Drama')\n",
      "(5, 'Fantasía')\n",
      "(6, 'Melodrama')\n",
      "(7, 'Musical')\n",
      "(8, 'Romance')\n",
      "(9, 'Suspense')\n",
      "(10, 'Terror')\n",
      "(11, 'Bélico')\n",
      "(69, 'Documental')\n"
     ]
    }
   ],
   "source": [
    "post_show_sql = \"SELECT genre_id, genre_name FROM tb_genre\"\n",
    "\n",
    "crs.execute(post_show_sql)\n",
    "\n",
    "result = crs.fetchall()\n",
    "\n",
    "for x in result:\n",
    "    print(x)"
   ]
  },
  {
   "cell_type": "markdown",
   "id": "04252de0",
   "metadata": {},
   "source": [
    "## Exercise 6"
   ]
  },
  {
   "cell_type": "markdown",
   "id": "010655cf",
   "metadata": {},
   "source": [
    "Deleting a row in the table *tb_movie* will compromise the database's integrity. Previously, it is necessary to update the constraint *fk_movper_movie* and set it to \"*DELETE ON CASCADE*\". It is not possible to update a constraint, so the old one has to be deleted and then add the new one.<br>\n",
    "The first statement shows all the constraints in *tb_movie_person*."
   ]
  },
  {
   "cell_type": "code",
   "execution_count": 23,
   "id": "296222ea",
   "metadata": {},
   "outputs": [
    {
     "name": "stdout",
     "output_type": "stream",
     "text": [
      "('movie_id', 'PRIMARY', None, None)\n",
      "('person_id', 'PRIMARY', None, None)\n",
      "('role_id', 'PRIMARY', None, None)\n",
      "('movie_id', 'fk_movper_movie', 'movie_id', 'tb_movie')\n",
      "('person_id', 'fk_movper_person', 'person_id', 'tb_person')\n",
      "('role_id', 'fk_movper_role', 'role_id', 'tb_role')\n"
     ]
    }
   ],
   "source": [
    "show_constraint_sql = \"\"\"\n",
    "SELECT COLUMN_NAME, CONSTRAINT_NAME, REFERENCED_COLUMN_NAME, REFERENCED_TABLE_NAME\n",
    "FROM information_schema.KEY_COLUMN_USAGE\n",
    "WHERE TABLE_NAME = 'tb_movie_person';\n",
    "\"\"\"\n",
    "\n",
    "crs.execute(show_constraint_sql)\n",
    "\n",
    "result = crs.fetchall()\n",
    "for x in result:\n",
    "    print(x)"
   ]
  },
  {
   "cell_type": "code",
   "execution_count": 24,
   "id": "18097a8a",
   "metadata": {},
   "outputs": [],
   "source": [
    "drop_fk_sql = \"ALTER TABLE tb_movie_person DROP CONSTRAINT fk_movper_movie;\"\n",
    "\n",
    "crs.execute(drop_fk_sql)\n",
    "\n",
    "cnn.commit()"
   ]
  },
  {
   "cell_type": "code",
   "execution_count": 25,
   "id": "4486fd6d",
   "metadata": {},
   "outputs": [
    {
     "name": "stdout",
     "output_type": "stream",
     "text": [
      "('movie_id', 'PRIMARY', None, None)\n",
      "('person_id', 'PRIMARY', None, None)\n",
      "('role_id', 'PRIMARY', None, None)\n",
      "('person_id', 'fk_movper_person', 'person_id', 'tb_person')\n",
      "('role_id', 'fk_movper_role', 'role_id', 'tb_role')\n"
     ]
    }
   ],
   "source": [
    "show_constraint_sql = \"\"\"\n",
    "select COLUMN_NAME, CONSTRAINT_NAME, REFERENCED_COLUMN_NAME, REFERENCED_TABLE_NAME\n",
    "from information_schema.KEY_COLUMN_USAGE\n",
    "where TABLE_NAME = 'tb_movie_person';\n",
    "\"\"\"\n",
    "\n",
    "crs.execute(show_constraint_sql)\n",
    "\n",
    "result = crs.fetchall()\n",
    "for x in result:\n",
    "    print(x)"
   ]
  },
  {
   "cell_type": "code",
   "execution_count": 26,
   "id": "2539767a",
   "metadata": {},
   "outputs": [],
   "source": [
    "add_fk_sql = \"\"\"\n",
    "ALTER TABLE tb_movie_person ADD CONSTRAINT fk_movper_movie FOREIGN KEY (movie_id) \n",
    "REFERENCES movies.tb_movie (movie_id) ON DELETE CASCADE;\n",
    "\"\"\"\n",
    "\n",
    "crs.execute(add_fk_sql)\n",
    "\n",
    "cnn.commit()"
   ]
  },
  {
   "cell_type": "code",
   "execution_count": 27,
   "id": "9cb35c7c",
   "metadata": {},
   "outputs": [
    {
     "name": "stdout",
     "output_type": "stream",
     "text": [
      "('movie_id', 'PRIMARY', None, None)\n",
      "('person_id', 'PRIMARY', None, None)\n",
      "('role_id', 'PRIMARY', None, None)\n",
      "('movie_id', 'fk_movper_movie', 'movie_id', 'tb_movie')\n",
      "('person_id', 'fk_movper_person', 'person_id', 'tb_person')\n",
      "('role_id', 'fk_movper_role', 'role_id', 'tb_role')\n"
     ]
    }
   ],
   "source": [
    "show_constraint_sql = \"\"\"\n",
    "select COLUMN_NAME, CONSTRAINT_NAME, REFERENCED_COLUMN_NAME, REFERENCED_TABLE_NAME\n",
    "from information_schema.KEY_COLUMN_USAGE\n",
    "where TABLE_NAME = 'tb_movie_person';\n",
    "\"\"\"\n",
    "\n",
    "crs.execute(show_constraint_sql)\n",
    "\n",
    "result = crs.fetchall()\n",
    "for x in result:\n",
    "    print(x)"
   ]
  },
  {
   "cell_type": "markdown",
   "id": "e43ca9c4",
   "metadata": {},
   "source": [
    "Now, it is possible to delete a row in *tb_movie* without compromising the database's integrity."
   ]
  },
  {
   "cell_type": "code",
   "execution_count": 28,
   "id": "803a5ad6",
   "metadata": {},
   "outputs": [
    {
     "name": "stdout",
     "output_type": "stream",
     "text": [
      "(1, 'Apocalypse Now', datetime.date(1979, 5, 10), 'Film', 11, 'OS_SGAD', None, None)\n",
      "(2, 'Star Wars:Episode IV - A New Hope', datetime.date(1977, 5, 25), 'Film', 2, 'OS_SGAD', None, None)\n",
      "(3, 'Indiana Jones and the Temple of Doom', datetime.date(1984, 5, 8), 'Film', 1, 'OS_SGAD', None, None)\n",
      "(4, 'The Terminal', datetime.date(2004, 6, 18), 'Digital', 3, 'OS_SGAD', None, None)\n",
      "(5, 'Jaws', datetime.date(1975, 1, 1), 'Film', 10, 'OS_SGAD', None, None)\n",
      "(6, 'ET The Extraterrestrial', datetime.date(1982, 7, 25), 'Film', 5, 'OS_SGAD', None, None)\n",
      "(7, 'Psycho', datetime.date(1960, 5, 6), 'Film', 9, 'OS_SGAD', None, None)\n",
      "(8, 'Ocho Apellidos Vascos', datetime.date(2014, 3, 14), 'Digital', 3, 'OS_SGAD', None, None)\n",
      "(9, 'Ocho Apellidos Catalanes', datetime.date(2016, 6, 9), 'Digital', 8, 'OS_SGAD', None, None)\n",
      "(10, 'El otro lado de la cama', datetime.date(2002, 9, 4), 'Digital', 8, 'OS_SGAD', None, None)\n",
      "(11, 'La Gran Familia Española', datetime.date(2012, 10, 15), 'Digital', 3, 'OS_SGAD', None, None)\n",
      "(12, 'El dia de la bestia', datetime.date(1994, 12, 25), 'Film', 1, 'OS_SGAD', None, None)\n",
      "(13, 'Braveheart', datetime.date(1995, 8, 8), 'Film', 4, 'OS_SGAD', None, None)\n",
      "(14, 'The Shawshank Redemption', datetime.date(1992, 1, 7), 'Film', 4, 'OS_SGAD', None, None)\n",
      "(15, 'Las brujas de Zugarramurdi', datetime.date(2009, 10, 7), 'Digital', 9, 'OS_SGAD', None, None)\n",
      "(16, 'Blade Runner', datetime.date(1982, 12, 25), 'Digital', 2, 'OS_SGAD', None, None)\n"
     ]
    }
   ],
   "source": [
    "show_sql = \"SELECT * FROM tb_movie;\"\n",
    "\n",
    "crs.execute(show_sql)\n",
    "\n",
    "result = crs.fetchall()\n",
    "for x in result:\n",
    "    print(x)"
   ]
  },
  {
   "cell_type": "code",
   "execution_count": 29,
   "id": "5855e1ff",
   "metadata": {},
   "outputs": [],
   "source": [
    "delete_row_sql = \"DELETE FROM tb_movie WHERE movie_title = 'La Gran Familia Española';\"\n",
    "\n",
    "crs.execute(delete_row_sql)\n",
    "\n",
    "cnn.commit()\n"
   ]
  },
  {
   "cell_type": "code",
   "execution_count": 30,
   "id": "bba95f55",
   "metadata": {},
   "outputs": [
    {
     "name": "stdout",
     "output_type": "stream",
     "text": [
      "(1, 'Apocalypse Now', datetime.date(1979, 5, 10), 'Film', 11, 'OS_SGAD', None, None)\n",
      "(2, 'Star Wars:Episode IV - A New Hope', datetime.date(1977, 5, 25), 'Film', 2, 'OS_SGAD', None, None)\n",
      "(3, 'Indiana Jones and the Temple of Doom', datetime.date(1984, 5, 8), 'Film', 1, 'OS_SGAD', None, None)\n",
      "(4, 'The Terminal', datetime.date(2004, 6, 18), 'Digital', 3, 'OS_SGAD', None, None)\n",
      "(5, 'Jaws', datetime.date(1975, 1, 1), 'Film', 10, 'OS_SGAD', None, None)\n",
      "(6, 'ET The Extraterrestrial', datetime.date(1982, 7, 25), 'Film', 5, 'OS_SGAD', None, None)\n",
      "(7, 'Psycho', datetime.date(1960, 5, 6), 'Film', 9, 'OS_SGAD', None, None)\n",
      "(8, 'Ocho Apellidos Vascos', datetime.date(2014, 3, 14), 'Digital', 3, 'OS_SGAD', None, None)\n",
      "(9, 'Ocho Apellidos Catalanes', datetime.date(2016, 6, 9), 'Digital', 8, 'OS_SGAD', None, None)\n",
      "(10, 'El otro lado de la cama', datetime.date(2002, 9, 4), 'Digital', 8, 'OS_SGAD', None, None)\n",
      "(12, 'El dia de la bestia', datetime.date(1994, 12, 25), 'Film', 1, 'OS_SGAD', None, None)\n",
      "(13, 'Braveheart', datetime.date(1995, 8, 8), 'Film', 4, 'OS_SGAD', None, None)\n",
      "(14, 'The Shawshank Redemption', datetime.date(1992, 1, 7), 'Film', 4, 'OS_SGAD', None, None)\n",
      "(15, 'Las brujas de Zugarramurdi', datetime.date(2009, 10, 7), 'Digital', 9, 'OS_SGAD', None, None)\n",
      "(16, 'Blade Runner', datetime.date(1982, 12, 25), 'Digital', 2, 'OS_SGAD', None, None)\n"
     ]
    }
   ],
   "source": [
    "show_sql = \"SELECT * FROM tb_movie;\"\n",
    "\n",
    "crs.execute(show_sql)\n",
    "\n",
    "result = crs.fetchall()\n",
    "for x in result:\n",
    "    print(x)"
   ]
  },
  {
   "cell_type": "markdown",
   "id": "a474d5f9",
   "metadata": {},
   "source": [
    "## Exercise 7"
   ]
  },
  {
   "cell_type": "markdown",
   "id": "a6391a63",
   "metadata": {},
   "source": [
    "Update the row with *movie_title* \"Ocho Apellidos Catalanes\" in the table *tb_movie*. The genre relation has to be updated from \"Romance\" to \"Comedia\"."
   ]
  },
  {
   "cell_type": "code",
   "execution_count": 31,
   "id": "977a4762",
   "metadata": {},
   "outputs": [
    {
     "name": "stdout",
     "output_type": "stream",
     "text": [
      "(1, 'Apocalypse Now', datetime.date(1979, 5, 10), 'Film', 11, 'OS_SGAD', None, None)\n",
      "(2, 'Star Wars:Episode IV - A New Hope', datetime.date(1977, 5, 25), 'Film', 2, 'OS_SGAD', None, None)\n",
      "(3, 'Indiana Jones and the Temple of Doom', datetime.date(1984, 5, 8), 'Film', 1, 'OS_SGAD', None, None)\n",
      "(4, 'The Terminal', datetime.date(2004, 6, 18), 'Digital', 3, 'OS_SGAD', None, None)\n",
      "(5, 'Jaws', datetime.date(1975, 1, 1), 'Film', 10, 'OS_SGAD', None, None)\n",
      "(6, 'ET The Extraterrestrial', datetime.date(1982, 7, 25), 'Film', 5, 'OS_SGAD', None, None)\n",
      "(7, 'Psycho', datetime.date(1960, 5, 6), 'Film', 9, 'OS_SGAD', None, None)\n",
      "(8, 'Ocho Apellidos Vascos', datetime.date(2014, 3, 14), 'Digital', 3, 'OS_SGAD', None, None)\n",
      "(9, 'Ocho Apellidos Catalanes', datetime.date(2016, 6, 9), 'Digital', 8, 'OS_SGAD', None, None)\n",
      "(10, 'El otro lado de la cama', datetime.date(2002, 9, 4), 'Digital', 8, 'OS_SGAD', None, None)\n",
      "(12, 'El dia de la bestia', datetime.date(1994, 12, 25), 'Film', 1, 'OS_SGAD', None, None)\n",
      "(13, 'Braveheart', datetime.date(1995, 8, 8), 'Film', 4, 'OS_SGAD', None, None)\n",
      "(14, 'The Shawshank Redemption', datetime.date(1992, 1, 7), 'Film', 4, 'OS_SGAD', None, None)\n",
      "(15, 'Las brujas de Zugarramurdi', datetime.date(2009, 10, 7), 'Digital', 9, 'OS_SGAD', None, None)\n",
      "(16, 'Blade Runner', datetime.date(1982, 12, 25), 'Digital', 2, 'OS_SGAD', None, None)\n"
     ]
    }
   ],
   "source": [
    "show_sql = \"SELECT * FROM tb_movie;\"\n",
    "\n",
    "crs.execute(show_sql)\n",
    "\n",
    "result = crs.fetchall()\n",
    "for x in result:\n",
    "    print(x)"
   ]
  },
  {
   "cell_type": "code",
   "execution_count": 32,
   "id": "e51d4bca",
   "metadata": {},
   "outputs": [],
   "source": [
    "update_sql = \"\"\"\n",
    "UPDATE tb_movie\n",
    "SET movie_genre_id = (SELECT genre_id FROM tb_genre WHERE genre_name = 'Comedia')\n",
    "WHERE movie_title = \"Ocho Apellidos Catalanes;\"\n",
    "\"\"\"\n",
    "\n",
    "crs.execute(update_sql)\n",
    "\n",
    "cnn.commit()"
   ]
  },
  {
   "cell_type": "code",
   "execution_count": 33,
   "id": "47b033a0",
   "metadata": {},
   "outputs": [
    {
     "name": "stdout",
     "output_type": "stream",
     "text": [
      "(1, 'Apocalypse Now', datetime.date(1979, 5, 10), 'Film', 11, 'OS_SGAD', None, None)\n",
      "(2, 'Star Wars:Episode IV - A New Hope', datetime.date(1977, 5, 25), 'Film', 2, 'OS_SGAD', None, None)\n",
      "(3, 'Indiana Jones and the Temple of Doom', datetime.date(1984, 5, 8), 'Film', 1, 'OS_SGAD', None, None)\n",
      "(4, 'The Terminal', datetime.date(2004, 6, 18), 'Digital', 3, 'OS_SGAD', None, None)\n",
      "(5, 'Jaws', datetime.date(1975, 1, 1), 'Film', 10, 'OS_SGAD', None, None)\n",
      "(6, 'ET The Extraterrestrial', datetime.date(1982, 7, 25), 'Film', 5, 'OS_SGAD', None, None)\n",
      "(7, 'Psycho', datetime.date(1960, 5, 6), 'Film', 9, 'OS_SGAD', None, None)\n",
      "(8, 'Ocho Apellidos Vascos', datetime.date(2014, 3, 14), 'Digital', 3, 'OS_SGAD', None, None)\n",
      "(9, 'Ocho Apellidos Catalanes', datetime.date(2016, 6, 9), 'Digital', 8, 'OS_SGAD', None, None)\n",
      "(10, 'El otro lado de la cama', datetime.date(2002, 9, 4), 'Digital', 8, 'OS_SGAD', None, None)\n",
      "(12, 'El dia de la bestia', datetime.date(1994, 12, 25), 'Film', 1, 'OS_SGAD', None, None)\n",
      "(13, 'Braveheart', datetime.date(1995, 8, 8), 'Film', 4, 'OS_SGAD', None, None)\n",
      "(14, 'The Shawshank Redemption', datetime.date(1992, 1, 7), 'Film', 4, 'OS_SGAD', None, None)\n",
      "(15, 'Las brujas de Zugarramurdi', datetime.date(2009, 10, 7), 'Digital', 9, 'OS_SGAD', None, None)\n",
      "(16, 'Blade Runner', datetime.date(1982, 12, 25), 'Digital', 2, 'OS_SGAD', None, None)\n"
     ]
    }
   ],
   "source": [
    "show_sql = \"SELECT * FROM tb_movie;\"\n",
    "\n",
    "crs.execute(show_sql)\n",
    "\n",
    "result = crs.fetchall()\n",
    "\n",
    "for x in result:\n",
    "    print(x)"
   ]
  }
 ],
 "metadata": {
  "kernelspec": {
   "display_name": "Python 3 (ipykernel)",
   "language": "python",
   "name": "python3"
  },
  "language_info": {
   "codemirror_mode": {
    "name": "ipython",
    "version": 3
   },
   "file_extension": ".py",
   "mimetype": "text/x-python",
   "name": "python",
   "nbconvert_exporter": "python",
   "pygments_lexer": "ipython3",
   "version": "3.9.12"
  }
 },
 "nbformat": 4,
 "nbformat_minor": 5
}
